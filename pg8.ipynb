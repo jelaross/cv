{
 "cells": [
  {
   "cell_type": "code",
   "execution_count": null,
   "metadata": {},
   "outputs": [],
   "source": [
    "import cv2\n",
    "import numpy as np\n",
    "from matplotlib import pyplot as plt\n",
    "\n",
    "image_path=(\"D:\\\\image.png\")\n",
    "image=cv2.imread(image_path)\n",
    "cv2.imshow(\"image\",image)\n",
    "cv2.waitKey(0)\n",
    "cv2.destroyAllWindows()"
   ]
  },
  {
   "cell_type": "code",
   "execution_count": null,
   "metadata": {},
   "outputs": [],
   "source": [
    "import cv2\n",
    "import matplotlib.pyplot as plt\n",
    "\n",
    "image=cv2.imread(image_path,cv2.IMREAD_GRAYSCALE)\n",
    "image=cv2.calcHist([image],[0],None,[256],[0,256])\n",
    "\n",
    "plt.plot(hist,color='gray')\n",
    "plt.title('Grayscale Histogram')\n",
    "plt.xlim([0,256])\n",
    "plt.xlabel('Pixel Intensity')\n",
    "plt.ylabel('Frequency')\n",
    "plt.show()"
   ]
  },
  {
   "cell_type": "code",
   "execution_count": null,
   "metadata": {},
   "outputs": [],
   "source": [
    "import cv2\n",
    "import matplotlib.pyplot as plt\n",
    "\n",
    "image=cv2.imread(image_path)\n",
    "\n",
    "colors=('b','g','r')\n",
    "plt.figure(figsize=(10,5))\n",
    "\n",
    "for i,color in enumerate(colors):\n",
    "    hist=cv2.calcHist([image],[i],None,[256],[0,256])\n",
    "    plt.plot(hist,color=color,label=f'{color.upper()} Channel')\n",
    "\n",
    "plt.title('RGB Histogram')\n",
    "plt.xlim([0,256])\n",
    "plt.xlabel('Pixel Intensity')\n",
    "plt.ylabel('Frequency')\n",
    "plt.legend()\n"
   ]
  }
 ],
 "metadata": {
  "language_info": {
   "name": "python"
  }
 },
 "nbformat": 4,
 "nbformat_minor": 2
}
