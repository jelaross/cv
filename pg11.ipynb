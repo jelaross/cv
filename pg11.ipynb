{
 "cells": [
  {
   "cell_type": "code",
   "execution_count": null,
   "metadata": {},
   "outputs": [],
   "source": [
    "import numpy as np\n",
    "import pandas as pd\n",
    "import matplotlib.pyplot as plt\n",
    "from sklearn.datasets import load_diabetes\n",
    "from sklearn.preprocessing import StandardScaler\n",
    "from sklearn.cluster import KMeans\n",
    "from sklearn.metrics import classification_report, accuracy_score\n",
    "from sklearn.decomposition import PCA\n",
    "\n",
    "diabetes=load_diabetes()\n",
    "X=diabetes.data\n",
    "y=diabetes.target\n",
    "\n",
    "y_binary=np.where(y>np.median(y),1,0)\n",
    "\n",
    "scaler=StandardScaler()\n",
    "X_scaled=scaler.fit_transform(X)\n",
    "\n",
    "kmeans=KMeans(n_clusters=2, random_state=42)\n",
    "y_kmeans=kmeans.fit_predict(X_scaled)\n",
    "\n",
    "pca=PCA(n_components=2)\n",
    "X_pca=pca.fit_transform(X_scaled)\n",
    "\n",
    "plt.figure(figsize=(10,7))\n",
    "plt.scatter(X_pca[:,0], X_pca[:,1], c=y_kmeans, cmap='viridis', marker='o', edgecolor='k', s=100, label='Clusters')\n",
    "plt.scatter(kmeans.cluster_centers_[:,0], kmeans.cluster_centers_[:,1], s=300, c='red', marker='X', edgecolor='k',  label='Centroids')\n",
    "plt.title('K-means Clustering on Diabetes Dataset')\n",
    "plt.xlabel('Principal Component 1')\n",
    "plt.ylabel('Principal Component 2')\n",
    "plt.legend()\n",
    "plt.show()\n"
   ]
  },
  {
   "cell_type": "code",
   "execution_count": null,
   "metadata": {},
   "outputs": [],
   "source": [
    "print(\"Accuracy:\", accuracy_score(y_binary, y_kmeans))\n",
    "print(classification_report(y_binary, y_kmeans, target_names=['No Diabetes', 'Diabetes']))"
   ]
  }
 ],
 "metadata": {
  "language_info": {
   "name": "python"
  }
 },
 "nbformat": 4,
 "nbformat_minor": 2
}
