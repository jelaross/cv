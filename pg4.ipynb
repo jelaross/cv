{
 "cells": [
  {
   "cell_type": "code",
   "execution_count": null,
   "metadata": {},
   "outputs": [],
   "source": [
    "import cv2\n",
    "import numpy as np\n",
    "from matplotlib import pyplot as plt\n",
    " \n",
    "image_path =(\"D:\\\\tensor1.jpg\")\n",
    "image = cv2.imread(image_path)\n",
    "cv2.imshow(\"image\",image)\n",
    "cv2.waitKey(0)\n",
    "cv2.destroyAllWindows()"
   ]
  },
  {
   "cell_type": "code",
   "execution_count": null,
   "metadata": {},
   "outputs": [],
   "source": [
    "image2 = cv2.imread(\"D:\\\\tensor2.jpg\")\n",
    "cv2.imshow(\"image\",image2)\n",
    "cv2.waitKey(0)\n",
    "cv2.destroyAllWindows()"
   ]
  },
  {
   "cell_type": "code",
   "execution_count": null,
   "metadata": {},
   "outputs": [],
   "source": [
    "import cv2\n",
    "import numpy as np\n",
    " \n",
    "image_1 = image\n",
    "image_2=image2\n",
    " \n",
    "if image_1.shape != image_2.shape:\n",
    "    raise ValueError(\"Images must have the same dimensions and number of channels.\")\n",
    "\n",
    "added_image = np.clip(image_1 + image_2, 0, 255).astype(np.uint8)\n",
    "cv2.imshow(\"image\",added_image)\n",
    "cv2.waitKey(0)\n",
    "cv2.destroyAllWindows()"
   ]
  }
 ],
 "metadata": {
  "language_info": {
   "name": "python"
  }
 },
 "nbformat": 4,
 "nbformat_minor": 2
}
