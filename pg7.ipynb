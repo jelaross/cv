{
 "cells": [
  {
   "cell_type": "code",
   "execution_count": null,
   "metadata": {},
   "outputs": [],
   "source": [
    "import cv2\n",
    "import numpy as np\n",
    "from matplotlib import pyplot as plt\n",
    "\n",
    "image_path=(\"D:\\\\image.png\")\n",
    "image=cv2.imread(image_path)\n",
    "cv2.imshow(\"image\",image)\n",
    "cv2.waitKey(0)\n",
    "cv2.destroyAllWindows()"
   ]
  },
  {
   "cell_type": "code",
   "execution_count": null,
   "metadata": {},
   "outputs": [],
   "source": [
    "import cv2\n",
    "image=cv2.imread(image_path,cv2.IMREAD_GRAYSCALE)\n",
    "edges=cv2.Canny(image,100,200)\n",
    "\n",
    "cv2.imshow(\"image\",edges)\n",
    "cv2.waitKey(0)\n",
    "cv2.destroyAllWindows()"
   ]
  },
  {
   "cell_type": "code",
   "execution_count": null,
   "metadata": {},
   "outputs": [],
   "source": [
    "import cv2\n",
    "import numpy as np\n",
    "\n",
    "sobel_x=cv2.Sobel(image,cv2.CV_64F,1,0,ksize=3)\n",
    "sobel_y=cv2.Sobel(image,cv2.CV_64F,0,1,ksize=3)\n",
    "\n",
    "sobel_edges=cv2.magnitude(sobel_x,sobel_y)\n",
    "\n",
    "cv2.imshow(\"image\",sobel_edges)\n",
    "cv2.waitKey(0)\n",
    "cv2.destroyAllWindows()"
   ]
  },
  {
   "cell_type": "code",
   "execution_count": null,
   "metadata": {},
   "outputs": [],
   "source": [
    "import cv2\n",
    "\n",
    "laplacian_edges=cv2.Laplacian(image,cv2.CV_64F)\n",
    "laplacian_edges=cv2.convertScaleAbs(laplacian_edges)\n",
    "cv2.imshow(\"image\",laplacian_edges)\n",
    "cv2.waitKey(0)\n",
    "cv2.destroyAllWindows()"
   ]
  }
 ],
 "metadata": {
  "language_info": {
   "name": "python"
  }
 },
 "nbformat": 4,
 "nbformat_minor": 2
}
