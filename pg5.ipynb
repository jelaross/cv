{
 "cells": [
  {
   "cell_type": "code",
   "execution_count": null,
   "metadata": {},
   "outputs": [],
   "source": [
    "import cv2\n",
    "import numpy as np\n",
    "from matplotlib import pyplot as plt\n",
    "\n",
    "image_path=(\"D:\\\\image.png\")\n",
    "image=cv2.imread(image_path)\n",
    "image2=image\n",
    "cv2.imshow(\"image\",image)\n",
    "cv2.waitKey(0)\n",
    "cv2.destroyAllWindows()"
   ]
  },
  {
   "cell_type": "code",
   "execution_count": null,
   "metadata": {},
   "outputs": [],
   "source": [
    "import cv2\n",
    "import numpy as np\n",
    "\n",
    "filter=np.array([[1,0,0],\n",
    "                [0,1,0],\n",
    "                [0,0,1]])\n",
    "\n",
    "identity_filter=cv2.filter2D(src=image, ddepth=-1, kernel=filter)\n",
    "print(\"Original image\")\n",
    "cv2.imshow(\"image\",image)\n",
    "cv2.waitKey(0)\n",
    "cv2.destroyAllWindows()\n",
    "\n",
    "print(\"After applying filter / kernel\")\n",
    "cv2.imshow(\"image\",identity_filter)\n",
    "cv2.waitKey(0)\n",
    "cv2.destroyAllWindows()\n",
    "\n",
    "filter2=np.ones((5,5),np.float32)/25\n",
    "img=cv2.filter2D(src=image, ddepth=-1, kernel=filter2)\n",
    "print(\"Original image\")\n",
    "\n",
    "cv2.imshow(\"image\",image)\n",
    "cv2.waitKey(0)\n",
    "cv2.destroyAllWindows()\n",
    "print(\"After applying blur filter / kernel\")\n",
    "\n",
    "cv2.imshow(\"image\",img)\n",
    "cv2.waitKey(0)\n",
    "cv2.destroyAllWindows()\n",
    "\n",
    "\n"
   ]
  },
  {
   "cell_type": "code",
   "execution_count": null,
   "metadata": {},
   "outputs": [],
   "source": [
    "blur=cv2.bilateralFilter(image,9,500,500)\n",
    "cv2.imshow(\"image\",blur)\n",
    "cv2.waitKey(0)\n",
    "cv2.destroyAllWindows()"
   ]
  },
  {
   "cell_type": "code",
   "execution_count": null,
   "metadata": {},
   "outputs": [],
   "source": [
    "img_1=cv2.boxFilter(img,0,(7,7),img,(-1,-1),False,\n",
    "                   cv2.BORDER_DEFAULT)\n",
    "cv2.imshow(\"image\",blur)\n",
    "cv2.waitKey(0)\n",
    "cv2.destroyAllWindows()"
   ]
  },
  {
   "cell_type": "code",
   "execution_count": null,
   "metadata": {},
   "outputs": [],
   "source": [
    "retval,threshold=cv2.threshold(image2,62,255,cv2.THRESH_BINARY)\n",
    "cv2.imshow(\"image\",threshold)\n",
    "cv2.waitKey(0)\n",
    "cv2.destroyAllWindows()"
   ]
  },
  {
   "cell_type": "code",
   "execution_count": null,
   "metadata": {},
   "outputs": [],
   "source": [
    "filter_emb=np.array([[1,0,0],\n",
    "                [0,1,0],\n",
    "                [0,0,1]])\n",
    "emb=cv2.filter2D(src=image, ddepth=-1, kernel=filter_emb)\n",
    "print(\"Original image\")\n",
    "cv2.imshow(\"image\",image)\n",
    "cv2.waitKey(0)\n",
    "cv2.destroyAllWindows()\n",
    "print(\"After applying filter / kernel\")\n",
    "cv2.imshow(\"image\",emb)\n",
    "cv2.waitKey(0)\n",
    "cv2.destroyAllWindows()"
   ]
  }
 ],
 "metadata": {
  "language_info": {
   "name": "python"
  }
 },
 "nbformat": 4,
 "nbformat_minor": 2
}
