{
 "cells": [
  {
   "cell_type": "code",
   "execution_count": null,
   "metadata": {},
   "outputs": [],
   "source": [
    "import cv2\n",
    "import numpy as np\n",
    "\n",
    "def track_object_by_color(frame, lower_color, upper_color):\n",
    "    hsv=cv2.cvtColor(frame, cv2.COLOR_BGR2HSV)\n",
    "    mask=cv2.inRange(hsv, lower_color, upper_color)\n",
    "    contours,_ =cv2.findContours(mask, cv2.RETR_TREE,cv2.CHAIN_APPROX_SIMPLE)\n",
    "    if contours:\n",
    "        largest_contour=max(contours, key=cv2.contourArea)\n",
    "        if cv2.contourArea(largest_contour)>100:\n",
    "            (x,y,w,h)=cv2.boundingRect(largest_contour)\n",
    "            cv2.rectangle(frame, (x,y), (x+w, y+h), (0,255,0),2)\n",
    "    return frame\n",
    "cap=cv2.VideoCapture('D:\\\\video.mp4')\n",
    "lower_color=np.array([30,150,50])\n",
    "upper_color=np.array([85,255,255])\n",
    "while True:\n",
    "    ret,frame=cap.read()\n",
    "    if not ret:\n",
    "        break\n",
    "    frame=track_object_by_color(frame,lower_color,upper_color)\n",
    "    cv2.imshow('Video tracking',frame)\n",
    "    if cv2.waitKey(1) & 0xFF == ord('q'):\n",
    "        break\n",
    "cap.release()\n",
    "cv2.destroyAllWindows()"
   ]
  },
  {
   "cell_type": "code",
   "execution_count": null,
   "metadata": {},
   "outputs": [],
   "source": []
  }
 ],
 "metadata": {
  "language_info": {
   "name": "python"
  }
 },
 "nbformat": 4,
 "nbformat_minor": 2
}
