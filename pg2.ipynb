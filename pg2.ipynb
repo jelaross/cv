{
 "cells": [
  {
   "cell_type": "code",
   "execution_count": null,
   "metadata": {},
   "outputs": [],
   "source": [
    "import cv2\n",
    "image_path=r\"D:\\tensor4.png\"\n",
    "image=cv2.imread(image_path)\n",
    "image_original=cv2.imread(image_path)\n",
    "cv2.imshow('Image', image)\n",
    "cv2.waitKey(0)\n",
    "cv2.destroyAllWindows()"
   ]
  },
  {
   "cell_type": "code",
   "execution_count": null,
   "metadata": {},
   "outputs": [],
   "source": [
    "image_roi=image\n",
    "roi_start_x, roi_start_y=50, 50\n",
    "roi_end_x, roi_end_y=300,300\n",
    "image_roi[roi_start_y:roi_end_y,roi_start_x:roi_end_x]=[0,0,0]\n",
    "print(\"Original image :-\")\n",
    "cv2.imshow(\"Image:-\",image_original)\n",
    "cv2.waitKey(0)\n",
    "cv2.destroyAllWindows()\n",
    "print('converting a region of the image to black')\n",
    "cv2.imshow(\"Image:-\",image_roi)\n",
    "cv2.waitKey(0)\n",
    "cv2.destroyAllWindows()"
   ]
  },
  {
   "cell_type": "code",
   "execution_count": null,
   "metadata": {},
   "outputs": [],
   "source": [
    "mask=cv2.inRange(image_original, (250,250,250), (255,255,255))\n",
    "masked_image=cv2.bitwise_and(image_original, image_original, mask=mask)\n",
    "print('Applied a mask to highlight dark region.')\n",
    "cv2.imshow(\"Image:-\",masked_image)\n",
    "cv2.waitKey(0)\n",
    "cv2.destroyAllWindows()"
   ]
  }
 ],
 "metadata": {
  "language_info": {
   "name": "python"
  }
 },
 "nbformat": 4,
 "nbformat_minor": 2
}
