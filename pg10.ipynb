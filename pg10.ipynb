{
 "cells": [
  {
   "cell_type": "code",
   "execution_count": null,
   "metadata": {},
   "outputs": [],
   "source": [
    "import numpy as np\n",
    "import pandas as pd\n",
    "import matplotlib.pyplot as plt\n",
    "from sklearn.datasets import load_iris\n",
    "from sklearn.preprocessing import StandardScaler\n",
    "from scipy.cluster.hierarchy import dendrogram,linkage\n",
    "from sklearn.cluster import AgglomerativeClustering\n",
    "from sklearn.metrics import classification_report,accuracy_score\n",
    "\n",
    "iris=load_iris()\n",
    "X=iris.data\n",
    "y=iris.target\n",
    "\n",
    "scaler=StandardScaler()\n",
    "X_scaled=scaler.fit_transform(X)\n",
    "\n",
    "Z=linkage(X_scaled,method='ward')\n",
    "\n",
    "plt.figure(figsize=(10,7))\n",
    "dendrogram(Z,labels=iris.target_names[y])\n",
    "plt.title('Hierarchical Clustering Dendrogram')\n",
    "plt.xlabel('Sample index')\n",
    "plt.ylabel('Distance')\n",
    "plt.show()\n",
    "\n",
    "\n"
   ]
  },
  {
   "cell_type": "code",
   "execution_count": null,
   "metadata": {},
   "outputs": [],
   "source": [
    "agg_clustering = AgglomerativeClustering(n_clusters=3, linkage='ward')\n",
    "y_pred = agg_clustering.fit_predict(X_scaled)\n",
    "\n",
    "print(\"Accuracy:\",accuracy_score(y,y_pred))\n",
    "print(classification_report(y,y_pred,target_names=iris.target_names))"
   ]
  }
 ],
 "metadata": {
  "language_info": {
   "name": "python"
  }
 },
 "nbformat": 4,
 "nbformat_minor": 2
}
